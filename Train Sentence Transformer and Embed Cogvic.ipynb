{
 "cells": [
  {
   "cell_type": "code",
   "execution_count": 1,
   "id": "1322ad86-78ac-4cf7-a267-20160e6d2a3a",
   "metadata": {},
   "outputs": [],
   "source": [
    "from sentence_transformers import SentenceTransformer, LoggingHandler, InputExample\n",
    "from sentence_transformers import models, util, datasets, evaluation, losses\n",
    "from torch.utils.data import DataLoader, Dataset\n",
    "from transformers import AutoTokenizer, AutoModelWithLMHead, AutoModelForMaskedLM, AutoConfig, BertConfig, AutoModelForCausalLM, BertGenerationDecoder\n",
    "import pandas as pd\n",
    "import json\n",
    "import umap\n",
    "from custom_TSDAE import *\n",
    "import os\n",
    "import umap\n",
    "import matplotlib.pyplot as plt\n"
   ]
  },
  {
   "cell_type": "markdown",
   "id": "a7110cc7-af69-413b-b15e-2b5ab621715c",
   "metadata": {},
   "source": [
    "# Load data"
   ]
  },
  {
   "cell_type": "code",
   "execution_count": 2,
   "id": "c0d9c603-5661-495a-865e-07effdcd17de",
   "metadata": {},
   "outputs": [
    {
     "data": {
      "text/html": [
       "<div>\n",
       "<style scoped>\n",
       "    .dataframe tbody tr th:only-of-type {\n",
       "        vertical-align: middle;\n",
       "    }\n",
       "\n",
       "    .dataframe tbody tr th {\n",
       "        vertical-align: top;\n",
       "    }\n",
       "\n",
       "    .dataframe thead th {\n",
       "        text-align: right;\n",
       "    }\n",
       "</style>\n",
       "<table border=\"1\" class=\"dataframe\">\n",
       "  <thead>\n",
       "    <tr style=\"text-align: right;\">\n",
       "      <th></th>\n",
       "      <th>ReferenceSequence</th>\n",
       "      <th>MutatedSequence</th>\n",
       "      <th>ClinicalSignificance</th>\n",
       "      <th>OriginSimple</th>\n",
       "      <th>GeneSymbol</th>\n",
       "      <th>HGNC_ID</th>\n",
       "      <th>PhenotypeList</th>\n",
       "      <th>RS# (dbSNP)</th>\n",
       "    </tr>\n",
       "  </thead>\n",
       "  <tbody>\n",
       "    <tr>\n",
       "      <th>0</th>\n",
       "      <td>CACCTGCGGGTGAGT</td>\n",
       "      <td>CACCTGCAGGTGAGT</td>\n",
       "      <td>Uncertain significance</td>\n",
       "      <td>germline</td>\n",
       "      <td>ZNF592</td>\n",
       "      <td>HGNC:28986</td>\n",
       "      <td>Galloway-Mowat syndrome 1</td>\n",
       "      <td>150829393</td>\n",
       "    </tr>\n",
       "    <tr>\n",
       "      <th>1</th>\n",
       "      <td>AAAGGTCCAGTCCTT</td>\n",
       "      <td>AAAGGTCTAGTCCTT</td>\n",
       "      <td>Pathogenic</td>\n",
       "      <td>germline</td>\n",
       "      <td>FOXRED1</td>\n",
       "      <td>HGNC:26927</td>\n",
       "      <td>Mitochondrial complex 1 deficiency, nuclear ty...</td>\n",
       "      <td>267606829</td>\n",
       "    </tr>\n",
       "    <tr>\n",
       "      <th>2</th>\n",
       "      <td>GTTGTCAACATGTAC</td>\n",
       "      <td>GTTGTCAGCATGTAC</td>\n",
       "      <td>Pathogenic</td>\n",
       "      <td>germline</td>\n",
       "      <td>FOXRED1</td>\n",
       "      <td>HGNC:26927</td>\n",
       "      <td>Mitochondrial complex 1 deficiency, nuclear ty...</td>\n",
       "      <td>267606830</td>\n",
       "    </tr>\n",
       "    <tr>\n",
       "      <th>3</th>\n",
       "      <td>GTCCCGAGGACTTCC</td>\n",
       "      <td>GTCCCGAAGACTTCC</td>\n",
       "      <td>Uncertain significance</td>\n",
       "      <td>germline</td>\n",
       "      <td>NUBPL</td>\n",
       "      <td>HGNC:20278</td>\n",
       "      <td>not provided|Inborn genetic diseases|Mitochond...</td>\n",
       "      <td>200401432</td>\n",
       "    </tr>\n",
       "    <tr>\n",
       "      <th>4</th>\n",
       "      <td>TATACGTGCCAGGTG</td>\n",
       "      <td>TATACGTACCAGGTG</td>\n",
       "      <td>Conflicting interpretations of pathogenicity; ...</td>\n",
       "      <td>germline</td>\n",
       "      <td>HFE</td>\n",
       "      <td>HGNC:4886</td>\n",
       "      <td>Hemochromatosis type 1|Porphyria cutanea tarda...</td>\n",
       "      <td>1800562</td>\n",
       "    </tr>\n",
       "    <tr>\n",
       "      <th>...</th>\n",
       "      <td>...</td>\n",
       "      <td>...</td>\n",
       "      <td>...</td>\n",
       "      <td>...</td>\n",
       "      <td>...</td>\n",
       "      <td>...</td>\n",
       "      <td>...</td>\n",
       "      <td>...</td>\n",
       "    </tr>\n",
       "    <tr>\n",
       "      <th>2507792</th>\n",
       "      <td>GAACCGGGACCTTGC</td>\n",
       "      <td>GAACCGGCACCTTGC</td>\n",
       "      <td>Likely pathogenic</td>\n",
       "      <td>germline</td>\n",
       "      <td>GAA</td>\n",
       "      <td>HGNC:4065</td>\n",
       "      <td>Glycogen storage disease, type II</td>\n",
       "      <td>-1</td>\n",
       "    </tr>\n",
       "    <tr>\n",
       "      <th>2507793</th>\n",
       "      <td>CAGCAAGAGATGAGC</td>\n",
       "      <td>CAGCAAGTGATGAGC</td>\n",
       "      <td>Uncertain significance</td>\n",
       "      <td>germline</td>\n",
       "      <td>DHTKD1</td>\n",
       "      <td>HGNC:23537</td>\n",
       "      <td>Charcot-Marie-Tooth disease axonal type 2Q</td>\n",
       "      <td>778723208</td>\n",
       "    </tr>\n",
       "    <tr>\n",
       "      <th>2507794</th>\n",
       "      <td>GATGGGCCCAACGCC</td>\n",
       "      <td>GATGGGCTCAACGCC</td>\n",
       "      <td>Likely pathogenic</td>\n",
       "      <td>germline</td>\n",
       "      <td>COL2A1</td>\n",
       "      <td>HGNC:2200</td>\n",
       "      <td>Spondyloepiphyseal dysplasia congenita</td>\n",
       "      <td>-1</td>\n",
       "    </tr>\n",
       "    <tr>\n",
       "      <th>2507795</th>\n",
       "      <td>CTATGCCAACAAGCA</td>\n",
       "      <td>CTATGCCGACAAGCA</td>\n",
       "      <td>Likely pathogenic</td>\n",
       "      <td>germline</td>\n",
       "      <td>NAGLU</td>\n",
       "      <td>HGNC:7632</td>\n",
       "      <td>Mucopolysaccharidosis, MPS-III-B</td>\n",
       "      <td>-1</td>\n",
       "    </tr>\n",
       "    <tr>\n",
       "      <th>2507796</th>\n",
       "      <td>GGGCCGCGAGAGGCA</td>\n",
       "      <td>GGGCCGCTAGAGGCA</td>\n",
       "      <td>Likely pathogenic</td>\n",
       "      <td>germline</td>\n",
       "      <td>NOTCH3</td>\n",
       "      <td>HGNC:7883</td>\n",
       "      <td>Cerebral arteriopathy, autosomal dominant, wit...</td>\n",
       "      <td>-1</td>\n",
       "    </tr>\n",
       "  </tbody>\n",
       "</table>\n",
       "<p>2507797 rows × 8 columns</p>\n",
       "</div>"
      ],
      "text/plain": [
       "        ReferenceSequence  MutatedSequence  \\\n",
       "0         CACCTGCGGGTGAGT  CACCTGCAGGTGAGT   \n",
       "1         AAAGGTCCAGTCCTT  AAAGGTCTAGTCCTT   \n",
       "2         GTTGTCAACATGTAC  GTTGTCAGCATGTAC   \n",
       "3         GTCCCGAGGACTTCC  GTCCCGAAGACTTCC   \n",
       "4         TATACGTGCCAGGTG  TATACGTACCAGGTG   \n",
       "...                   ...              ...   \n",
       "2507792   GAACCGGGACCTTGC  GAACCGGCACCTTGC   \n",
       "2507793   CAGCAAGAGATGAGC  CAGCAAGTGATGAGC   \n",
       "2507794   GATGGGCCCAACGCC  GATGGGCTCAACGCC   \n",
       "2507795   CTATGCCAACAAGCA  CTATGCCGACAAGCA   \n",
       "2507796   GGGCCGCGAGAGGCA  GGGCCGCTAGAGGCA   \n",
       "\n",
       "                                      ClinicalSignificance OriginSimple  \\\n",
       "0                                   Uncertain significance     germline   \n",
       "1                                               Pathogenic     germline   \n",
       "2                                               Pathogenic     germline   \n",
       "3                                   Uncertain significance     germline   \n",
       "4        Conflicting interpretations of pathogenicity; ...     germline   \n",
       "...                                                    ...          ...   \n",
       "2507792                                  Likely pathogenic     germline   \n",
       "2507793                             Uncertain significance     germline   \n",
       "2507794                                  Likely pathogenic     germline   \n",
       "2507795                                  Likely pathogenic     germline   \n",
       "2507796                                  Likely pathogenic     germline   \n",
       "\n",
       "        GeneSymbol     HGNC_ID  \\\n",
       "0           ZNF592  HGNC:28986   \n",
       "1          FOXRED1  HGNC:26927   \n",
       "2          FOXRED1  HGNC:26927   \n",
       "3            NUBPL  HGNC:20278   \n",
       "4              HFE   HGNC:4886   \n",
       "...            ...         ...   \n",
       "2507792        GAA   HGNC:4065   \n",
       "2507793     DHTKD1  HGNC:23537   \n",
       "2507794     COL2A1   HGNC:2200   \n",
       "2507795      NAGLU   HGNC:7632   \n",
       "2507796     NOTCH3   HGNC:7883   \n",
       "\n",
       "                                             PhenotypeList  RS# (dbSNP)  \n",
       "0                                Galloway-Mowat syndrome 1    150829393  \n",
       "1        Mitochondrial complex 1 deficiency, nuclear ty...    267606829  \n",
       "2        Mitochondrial complex 1 deficiency, nuclear ty...    267606830  \n",
       "3        not provided|Inborn genetic diseases|Mitochond...    200401432  \n",
       "4        Hemochromatosis type 1|Porphyria cutanea tarda...      1800562  \n",
       "...                                                    ...          ...  \n",
       "2507792                  Glycogen storage disease, type II           -1  \n",
       "2507793         Charcot-Marie-Tooth disease axonal type 2Q    778723208  \n",
       "2507794             Spondyloepiphyseal dysplasia congenita           -1  \n",
       "2507795                   Mucopolysaccharidosis, MPS-III-B           -1  \n",
       "2507796  Cerebral arteriopathy, autosomal dominant, wit...           -1  \n",
       "\n",
       "[2507797 rows x 8 columns]"
      ]
     },
     "execution_count": 2,
     "metadata": {},
     "output_type": "execute_result"
    }
   ],
   "source": [
    "finetune_data = pd.read_csv(\"processed_data/clinvar_processed_snvs.csv\")\n",
    "finetune_data"
   ]
  },
  {
   "cell_type": "code",
   "execution_count": 3,
   "id": "d3c3d8bf-79e4-40e7-ab90-d9df1af593ce",
   "metadata": {},
   "outputs": [
    {
     "data": {
      "text/html": [
       "<div>\n",
       "<style scoped>\n",
       "    .dataframe tbody tr th:only-of-type {\n",
       "        vertical-align: middle;\n",
       "    }\n",
       "\n",
       "    .dataframe tbody tr th {\n",
       "        vertical-align: top;\n",
       "    }\n",
       "\n",
       "    .dataframe thead th {\n",
       "        text-align: right;\n",
       "    }\n",
       "</style>\n",
       "<table border=\"1\" class=\"dataframe\">\n",
       "  <thead>\n",
       "    <tr style=\"text-align: right;\">\n",
       "      <th></th>\n",
       "      <th>ReferenceSequence</th>\n",
       "      <th>MutatedSequence</th>\n",
       "      <th>type</th>\n",
       "      <th>Molecular_Consequence</th>\n",
       "      <th>Gene</th>\n",
       "      <th>disease</th>\n",
       "      <th>dbSNP</th>\n",
       "    </tr>\n",
       "  </thead>\n",
       "  <tbody>\n",
       "    <tr>\n",
       "      <th>0</th>\n",
       "      <td>ACTATTCGGTGCGTT</td>\n",
       "      <td>ACTATTCTGTGCGTT</td>\n",
       "      <td>nonsynonymous SNV</td>\n",
       "      <td>SO:0001583|missense_variant\\nSO:0001627|intron...</td>\n",
       "      <td>CDKN2A</td>\n",
       "      <td>Hereditary_cancer-predisposing_syndrome\\nHered...</td>\n",
       "      <td>rs373407950(chr9-21974705-GtoT)</td>\n",
       "    </tr>\n",
       "    <tr>\n",
       "      <th>1</th>\n",
       "      <td>TTCCAAAATCCGTTT</td>\n",
       "      <td>TTCCAAAGTCCGTTT</td>\n",
       "      <td>nonsynonymous SNV</td>\n",
       "      <td>'-</td>\n",
       "      <td>TSC1</td>\n",
       "      <td>.</td>\n",
       "      <td>rs1374339026(chr9-135772897-AtoG)</td>\n",
       "    </tr>\n",
       "    <tr>\n",
       "      <th>2</th>\n",
       "      <td>CTTCGTTGCTTGCTG</td>\n",
       "      <td>CTTCGTTCCTTGCTG</td>\n",
       "      <td>nonsynonymous SNV</td>\n",
       "      <td>'-</td>\n",
       "      <td>RASA1</td>\n",
       "      <td>.</td>\n",
       "      <td>rs779313090(chr5-86564637-GtoC)</td>\n",
       "    </tr>\n",
       "    <tr>\n",
       "      <th>3</th>\n",
       "      <td>CTGCCACCCATCAGG</td>\n",
       "      <td>CTGCCACACATCAGG</td>\n",
       "      <td>nonsynonymous SNV</td>\n",
       "      <td>'-</td>\n",
       "      <td>CSF1R</td>\n",
       "      <td>.</td>\n",
       "      <td>rs753500118(chr5-149459663-CtoA)</td>\n",
       "    </tr>\n",
       "    <tr>\n",
       "      <th>4</th>\n",
       "      <td>TTAAATCTGGGAGGC</td>\n",
       "      <td>TTAAATCCGGGAGGC</td>\n",
       "      <td>nonsynonymous SNV</td>\n",
       "      <td>'-</td>\n",
       "      <td>RHOA</td>\n",
       "      <td>.</td>\n",
       "      <td>rs1310116062(chr3-49398430-TtoC)</td>\n",
       "    </tr>\n",
       "    <tr>\n",
       "      <th>...</th>\n",
       "      <td>...</td>\n",
       "      <td>...</td>\n",
       "      <td>...</td>\n",
       "      <td>...</td>\n",
       "      <td>...</td>\n",
       "      <td>...</td>\n",
       "      <td>...</td>\n",
       "    </tr>\n",
       "    <tr>\n",
       "      <th>418</th>\n",
       "      <td>CAAAACTGATAATCA</td>\n",
       "      <td>CAAAACTAATAATCA</td>\n",
       "      <td>stopgain</td>\n",
       "      <td>SO:0001587|nonsense</td>\n",
       "      <td>FANCC</td>\n",
       "      <td>Fanconi_anemia\\nFanconi_anemia,_complementatio...</td>\n",
       "      <td>rs121917784(chr9-98011537-GtoA)</td>\n",
       "    </tr>\n",
       "    <tr>\n",
       "      <th>419</th>\n",
       "      <td>ACCTGATCCATGTAA</td>\n",
       "      <td>ACCTGATTCATGTAA</td>\n",
       "      <td>nonsynonymous SNV</td>\n",
       "      <td>'-</td>\n",
       "      <td>PTCH1</td>\n",
       "      <td>.</td>\n",
       "      <td>rs780378700(chr9-98244421-CtoT)</td>\n",
       "    </tr>\n",
       "    <tr>\n",
       "      <th>420</th>\n",
       "      <td>AGTTCCATGGCCCTC</td>\n",
       "      <td>AGTTCCACGGCCCTC</td>\n",
       "      <td>nonsynonymous SNV</td>\n",
       "      <td>'-</td>\n",
       "      <td>PTCH1</td>\n",
       "      <td>.</td>\n",
       "      <td>rs755103500(chr9-98279102-TtoC)</td>\n",
       "    </tr>\n",
       "    <tr>\n",
       "      <th>421</th>\n",
       "      <td>GGATGAGAGTTACCT</td>\n",
       "      <td>GGATGAGCGTTACCT</td>\n",
       "      <td>nonsynonymous SNV</td>\n",
       "      <td>SO:0001583|missense_variant</td>\n",
       "      <td>DKC1</td>\n",
       "      <td>Dyskeratosis_congenita\\nDyskeratosis_congenita...</td>\n",
       "      <td>rs146700772(chrX-153997508-AtoC)</td>\n",
       "    </tr>\n",
       "    <tr>\n",
       "      <th>422</th>\n",
       "      <td>GGCTTCCGCAACTTA</td>\n",
       "      <td>GGCTTCCTCAACTTA</td>\n",
       "      <td>nonsynonymous SNV</td>\n",
       "      <td>SO:0001583|missense_variant</td>\n",
       "      <td>AR</td>\n",
       "      <td>Prostate_cancer_susceptibility</td>\n",
       "      <td>rs137852593(chrX-66937326-GtoT)</td>\n",
       "    </tr>\n",
       "  </tbody>\n",
       "</table>\n",
       "<p>423 rows × 7 columns</p>\n",
       "</div>"
      ],
      "text/plain": [
       "    ReferenceSequence  MutatedSequence               type  \\\n",
       "0     ACTATTCGGTGCGTT  ACTATTCTGTGCGTT  nonsynonymous SNV   \n",
       "1     TTCCAAAATCCGTTT  TTCCAAAGTCCGTTT  nonsynonymous SNV   \n",
       "2     CTTCGTTGCTTGCTG  CTTCGTTCCTTGCTG  nonsynonymous SNV   \n",
       "3     CTGCCACCCATCAGG  CTGCCACACATCAGG  nonsynonymous SNV   \n",
       "4     TTAAATCTGGGAGGC  TTAAATCCGGGAGGC  nonsynonymous SNV   \n",
       "..                ...              ...                ...   \n",
       "418   CAAAACTGATAATCA  CAAAACTAATAATCA           stopgain   \n",
       "419   ACCTGATCCATGTAA  ACCTGATTCATGTAA  nonsynonymous SNV   \n",
       "420   AGTTCCATGGCCCTC  AGTTCCACGGCCCTC  nonsynonymous SNV   \n",
       "421   GGATGAGAGTTACCT  GGATGAGCGTTACCT  nonsynonymous SNV   \n",
       "422   GGCTTCCGCAACTTA  GGCTTCCTCAACTTA  nonsynonymous SNV   \n",
       "\n",
       "                                 Molecular_Consequence    Gene  \\\n",
       "0    SO:0001583|missense_variant\\nSO:0001627|intron...  CDKN2A   \n",
       "1                                                   '-    TSC1   \n",
       "2                                                   '-   RASA1   \n",
       "3                                                   '-   CSF1R   \n",
       "4                                                   '-    RHOA   \n",
       "..                                                 ...     ...   \n",
       "418                                SO:0001587|nonsense   FANCC   \n",
       "419                                                 '-   PTCH1   \n",
       "420                                                 '-   PTCH1   \n",
       "421                        SO:0001583|missense_variant    DKC1   \n",
       "422                        SO:0001583|missense_variant      AR   \n",
       "\n",
       "                                               disease  \\\n",
       "0    Hereditary_cancer-predisposing_syndrome\\nHered...   \n",
       "1                                                    .   \n",
       "2                                                    .   \n",
       "3                                                    .   \n",
       "4                                                    .   \n",
       "..                                                 ...   \n",
       "418  Fanconi_anemia\\nFanconi_anemia,_complementatio...   \n",
       "419                                                  .   \n",
       "420                                                  .   \n",
       "421  Dyskeratosis_congenita\\nDyskeratosis_congenita...   \n",
       "422                     Prostate_cancer_susceptibility   \n",
       "\n",
       "                                 dbSNP  \n",
       "0      rs373407950(chr9-21974705-GtoT)  \n",
       "1    rs1374339026(chr9-135772897-AtoG)  \n",
       "2      rs779313090(chr5-86564637-GtoC)  \n",
       "3     rs753500118(chr5-149459663-CtoA)  \n",
       "4     rs1310116062(chr3-49398430-TtoC)  \n",
       "..                                 ...  \n",
       "418    rs121917784(chr9-98011537-GtoA)  \n",
       "419    rs780378700(chr9-98244421-CtoT)  \n",
       "420    rs755103500(chr9-98279102-TtoC)  \n",
       "421   rs146700772(chrX-153997508-AtoC)  \n",
       "422    rs137852593(chrX-66937326-GtoT)  \n",
       "\n",
       "[423 rows x 7 columns]"
      ]
     },
     "execution_count": 3,
     "metadata": {},
     "output_type": "execute_result"
    }
   ],
   "source": [
    "test_data = pd.read_csv(\"processed_data/cogvig_data.csv\")\n",
    "test_data"
   ]
  },
  {
   "cell_type": "markdown",
   "id": "db6a3d61-ecc9-4b2e-8d2f-ee94f101ba36",
   "metadata": {},
   "source": [
    "# Instantiate model and dataloaders"
   ]
  },
  {
   "cell_type": "code",
   "execution_count": 4,
   "id": "47871256-24bb-4e95-9a84-d5b642b52970",
   "metadata": {},
   "outputs": [
    {
     "name": "stderr",
     "output_type": "stream",
     "text": [
      "Some weights of the model checkpoint at zhihan1996/DNA_bert_3 were not used when initializing BertModel: ['cls.predictions.transform.LayerNorm.bias', 'cls.predictions.transform.dense.bias', 'cls.predictions.decoder.weight', 'cls.predictions.transform.dense.weight', 'cls.predictions.decoder.bias', 'cls.predictions.bias', 'cls.predictions.transform.LayerNorm.weight']\n",
      "- This IS expected if you are initializing BertModel from the checkpoint of a model trained on another task or with another architecture (e.g. initializing a BertForSequenceClassification model from a BertForPreTraining model).\n",
      "- This IS NOT expected if you are initializing BertModel from the checkpoint of a model that you expect to be exactly identical (initializing a BertForSequenceClassification model from a BertForSequenceClassification model).\n"
     ]
    }
   ],
   "source": [
    "model_name = 'zhihan1996/DNA_bert_3'\n",
    "#model_name = \"Peltarion/dnabert-minilm-mini\"\n",
    "tokenizer = AutoTokenizer.from_pretrained(model_name)\n",
    "\n",
    "embedding_model = models.Transformer(model_name)\n",
    "pooling_model = models.Pooling(768, 'cls')\n",
    "model = SentenceTransformer(modules=[embedding_model, pooling_model])\n",
    "model.tokenizer = tokenizer\n",
    "\n",
    "decoder_config = BertConfig.from_json_file(\"decoder_config.json\")"
   ]
  },
  {
   "cell_type": "code",
   "execution_count": 5,
   "id": "f540c300-c4cd-4f25-99d7-2acbc05c9995",
   "metadata": {},
   "outputs": [
    {
     "name": "stdout",
     "output_type": "stream",
     "text": [
      "Preprocessing sequences\n",
      "Preprocessing complete\n",
      "Preprocessing sequences\n",
      "Preprocessing complete\n"
     ]
    }
   ],
   "source": [
    "train_dataset = CustomTSDAE_Dataset(finetune_data, tokenizer)\n",
    "train_dataloader = DataLoader(train_dataset, batch_size=64, collate_fn=lambda x: x, shuffle=True)\n",
    "\n",
    "test_dataset = CustomTSDAE_Dataset(test_data, tokenizer)\n",
    "test_dataloader = DataLoader(test_dataset, batch_size=8, collate_fn=lambda x: x, shuffle=False)"
   ]
  },
  {
   "cell_type": "code",
   "execution_count": 6,
   "id": "e444004a-9463-4fa2-86ed-9c9868a53626",
   "metadata": {},
   "outputs": [
    {
     "name": "stderr",
     "output_type": "stream",
     "text": [
      "When tie_encoder_decoder=True, the decoder_name_or_path will be invalid.\n",
      "Some weights of the model checkpoint at zhihan1996/DNA_bert_3 were not used when initializing BertLMHeadModel: ['bert.encoder.layer.5.attention.self.key.weight', 'bert.encoder.layer.8.attention.output.dense.weight', 'bert.encoder.layer.8.attention.self.key.weight', 'bert.encoder.layer.3.attention.output.dense.weight', 'bert.encoder.layer.6.output.LayerNorm.weight', 'bert.encoder.layer.2.attention.output.LayerNorm.weight', 'bert.encoder.layer.2.attention.output.dense.bias', 'bert.encoder.layer.3.output.dense.bias', 'bert.encoder.layer.10.attention.self.query.weight', 'bert.encoder.layer.2.attention.self.key.bias', 'bert.encoder.layer.6.intermediate.dense.bias', 'bert.encoder.layer.9.output.LayerNorm.weight', 'bert.encoder.layer.11.output.LayerNorm.bias', 'bert.encoder.layer.5.attention.self.query.weight', 'bert.encoder.layer.11.output.LayerNorm.weight', 'bert.encoder.layer.6.attention.output.dense.bias', 'bert.encoder.layer.5.attention.self.value.bias', 'bert.encoder.layer.4.attention.output.dense.bias', 'bert.encoder.layer.2.intermediate.dense.weight', 'bert.encoder.layer.9.attention.output.dense.weight', 'bert.encoder.layer.7.attention.self.key.bias', 'bert.encoder.layer.6.attention.output.LayerNorm.bias', 'bert.encoder.layer.9.attention.output.LayerNorm.weight', 'bert.encoder.layer.2.output.LayerNorm.bias', 'bert.encoder.layer.2.attention.output.LayerNorm.bias', 'bert.encoder.layer.6.intermediate.dense.weight', 'bert.encoder.layer.11.attention.self.query.weight', 'bert.encoder.layer.8.attention.self.query.weight', 'bert.encoder.layer.9.attention.self.value.bias', 'bert.encoder.layer.3.attention.output.dense.bias', 'bert.encoder.layer.9.output.LayerNorm.bias', 'bert.encoder.layer.9.intermediate.dense.weight', 'bert.encoder.layer.11.attention.self.value.weight', 'bert.encoder.layer.8.attention.output.LayerNorm.weight', 'bert.encoder.layer.9.attention.self.query.weight', 'bert.encoder.layer.11.attention.self.key.bias', 'bert.encoder.layer.6.attention.self.value.weight', 'bert.encoder.layer.4.output.dense.weight', 'bert.encoder.layer.4.attention.output.LayerNorm.bias', 'bert.encoder.layer.6.attention.self.value.bias', 'bert.encoder.layer.11.intermediate.dense.bias', 'bert.encoder.layer.11.attention.output.LayerNorm.bias', 'bert.encoder.layer.10.output.dense.weight', 'bert.encoder.layer.8.attention.self.value.bias', 'bert.encoder.layer.5.output.LayerNorm.bias', 'bert.encoder.layer.10.intermediate.dense.bias', 'bert.encoder.layer.8.intermediate.dense.weight', 'bert.encoder.layer.6.attention.self.key.weight', 'bert.encoder.layer.9.output.dense.bias', 'bert.encoder.layer.10.intermediate.dense.weight', 'bert.encoder.layer.3.attention.self.key.bias', 'bert.encoder.layer.10.output.LayerNorm.weight', 'bert.encoder.layer.8.attention.self.query.bias', 'bert.encoder.layer.3.attention.self.query.bias', 'bert.encoder.layer.10.attention.output.dense.bias', 'bert.encoder.layer.5.attention.self.key.bias', 'bert.encoder.layer.9.attention.output.dense.bias', 'bert.encoder.layer.7.attention.output.LayerNorm.weight', 'bert.encoder.layer.4.output.LayerNorm.bias', 'bert.encoder.layer.11.attention.self.query.bias', 'bert.encoder.layer.9.attention.self.key.bias', 'bert.encoder.layer.3.attention.output.LayerNorm.bias', 'bert.encoder.layer.2.output.dense.weight', 'bert.encoder.layer.7.attention.self.query.bias', 'bert.encoder.layer.2.attention.self.value.bias', 'bert.encoder.layer.9.attention.self.value.weight', 'bert.encoder.layer.11.attention.self.value.bias', 'bert.encoder.layer.3.attention.self.query.weight', 'bert.encoder.layer.6.attention.self.key.bias', 'bert.encoder.layer.3.attention.output.LayerNorm.weight', 'bert.encoder.layer.6.attention.output.LayerNorm.weight', 'bert.encoder.layer.3.attention.self.key.weight', 'bert.encoder.layer.8.attention.self.key.bias', 'bert.encoder.layer.8.output.dense.weight', 'bert.encoder.layer.8.attention.output.LayerNorm.bias', 'bert.encoder.layer.7.attention.self.query.weight', 'bert.encoder.layer.4.attention.output.LayerNorm.weight', 'bert.encoder.layer.7.output.dense.bias', 'bert.encoder.layer.2.attention.self.query.weight', 'bert.encoder.layer.2.output.dense.bias', 'bert.encoder.layer.9.attention.output.LayerNorm.bias', 'bert.encoder.layer.4.output.LayerNorm.weight', 'bert.encoder.layer.2.attention.self.key.weight', 'bert.encoder.layer.5.output.LayerNorm.weight', 'bert.encoder.layer.10.attention.self.key.weight', 'bert.encoder.layer.5.attention.output.dense.bias', 'bert.encoder.layer.2.output.LayerNorm.weight', 'bert.encoder.layer.5.output.dense.bias', 'bert.encoder.layer.11.intermediate.dense.weight', 'bert.encoder.layer.7.attention.self.value.bias', 'bert.encoder.layer.6.output.dense.weight', 'bert.encoder.layer.7.attention.output.dense.weight', 'bert.encoder.layer.8.output.LayerNorm.bias', 'bert.encoder.layer.9.attention.self.query.bias', 'bert.encoder.layer.7.attention.self.key.weight', 'bert.encoder.layer.7.attention.output.LayerNorm.bias', 'bert.encoder.layer.2.attention.output.dense.weight', 'bert.encoder.layer.4.attention.self.value.weight', 'bert.encoder.layer.2.intermediate.dense.bias', 'bert.encoder.layer.11.attention.output.LayerNorm.weight', 'bert.encoder.layer.3.output.LayerNorm.weight', 'bert.encoder.layer.5.attention.self.query.bias', 'bert.encoder.layer.5.attention.output.dense.weight', 'bert.encoder.layer.5.intermediate.dense.bias', 'bert.encoder.layer.8.output.dense.bias', 'bert.encoder.layer.10.attention.self.value.weight', 'bert.encoder.layer.7.output.LayerNorm.bias', 'bert.encoder.layer.11.attention.self.key.weight', 'bert.encoder.layer.7.attention.self.value.weight', 'bert.encoder.layer.10.attention.output.LayerNorm.weight', 'bert.encoder.layer.6.output.LayerNorm.bias', 'bert.encoder.layer.6.attention.output.dense.weight', 'bert.encoder.layer.9.attention.self.key.weight', 'bert.encoder.layer.3.intermediate.dense.weight', 'bert.encoder.layer.3.output.dense.weight', 'bert.encoder.layer.4.attention.output.dense.weight', 'bert.encoder.layer.5.output.dense.weight', 'bert.encoder.layer.4.output.dense.bias', 'bert.encoder.layer.4.intermediate.dense.bias', 'bert.encoder.layer.10.attention.output.LayerNorm.bias', 'bert.encoder.layer.4.attention.self.key.bias', 'bert.encoder.layer.2.attention.self.query.bias', 'bert.encoder.layer.10.output.dense.bias', 'bert.encoder.layer.10.attention.self.query.bias', 'bert.encoder.layer.6.attention.self.query.bias', 'bert.encoder.layer.11.attention.output.dense.bias', 'bert.encoder.layer.3.output.LayerNorm.bias', 'bert.encoder.layer.4.attention.self.query.weight', 'bert.encoder.layer.4.attention.self.value.bias', 'bert.encoder.layer.8.attention.output.dense.bias', 'bert.encoder.layer.7.intermediate.dense.bias', 'bert.encoder.layer.10.attention.output.dense.weight', 'bert.encoder.layer.5.attention.output.LayerNorm.bias', 'bert.encoder.layer.7.output.LayerNorm.weight', 'bert.encoder.layer.10.attention.self.value.bias', 'bert.encoder.layer.3.attention.self.value.bias', 'bert.encoder.layer.3.attention.self.value.weight', 'bert.encoder.layer.4.attention.self.key.weight', 'bert.encoder.layer.10.attention.self.key.bias', 'bert.encoder.layer.6.attention.self.query.weight', 'bert.encoder.layer.2.attention.self.value.weight', 'bert.encoder.layer.5.attention.output.LayerNorm.weight', 'bert.encoder.layer.8.intermediate.dense.bias', 'bert.encoder.layer.11.attention.output.dense.weight', 'bert.encoder.layer.11.output.dense.weight', 'bert.encoder.layer.6.output.dense.bias', 'bert.encoder.layer.7.intermediate.dense.weight', 'bert.encoder.layer.4.intermediate.dense.weight', 'bert.encoder.layer.3.intermediate.dense.bias', 'bert.encoder.layer.9.intermediate.dense.bias', 'bert.encoder.layer.8.attention.self.value.weight', 'bert.encoder.layer.5.attention.self.value.weight', 'bert.encoder.layer.9.output.dense.weight', 'bert.encoder.layer.11.output.dense.bias', 'bert.encoder.layer.10.output.LayerNorm.bias', 'bert.encoder.layer.4.attention.self.query.bias', 'bert.encoder.layer.7.output.dense.weight', 'bert.encoder.layer.8.output.LayerNorm.weight', 'bert.encoder.layer.7.attention.output.dense.bias', 'bert.encoder.layer.5.intermediate.dense.weight']\n",
      "- This IS expected if you are initializing BertLMHeadModel from the checkpoint of a model trained on another task or with another architecture (e.g. initializing a BertForSequenceClassification model from a BertForPreTraining model).\n",
      "- This IS NOT expected if you are initializing BertLMHeadModel from the checkpoint of a model that you expect to be exactly identical (initializing a BertForSequenceClassification model from a BertForSequenceClassification model).\n",
      "Some weights of BertLMHeadModel were not initialized from the model checkpoint at zhihan1996/DNA_bert_3 and are newly initialized: ['bert.encoder.layer.0.crossattention.self.key.bias', 'bert.encoder.layer.1.crossattention.output.LayerNorm.weight', 'bert.encoder.layer.1.crossattention.self.key.weight', 'bert.encoder.layer.0.crossattention.output.dense.bias', 'bert.encoder.layer.1.crossattention.self.key.bias', 'bert.encoder.layer.1.crossattention.self.query.weight', 'bert.encoder.layer.0.crossattention.output.LayerNorm.bias', 'bert.encoder.layer.1.crossattention.output.LayerNorm.bias', 'bert.encoder.layer.0.crossattention.output.LayerNorm.weight', 'bert.encoder.layer.0.crossattention.self.query.weight', 'bert.encoder.layer.1.crossattention.self.value.bias', 'bert.encoder.layer.0.crossattention.self.value.weight', 'bert.encoder.layer.0.crossattention.self.key.weight', 'bert.encoder.layer.0.crossattention.self.value.bias', 'bert.encoder.layer.1.crossattention.output.dense.bias', 'bert.encoder.layer.0.crossattention.self.query.bias', 'bert.encoder.layer.1.crossattention.self.value.weight', 'bert.encoder.layer.1.crossattention.self.query.bias', 'bert.encoder.layer.0.crossattention.output.dense.weight', 'bert.encoder.layer.1.crossattention.output.dense.weight']\n",
      "You should probably TRAIN this model on a down-stream task to be able to use it for predictions and inference.\n",
      "The following encoder weights were not tied to the decoder ['bert/encoder/layer/9', 'bert/encoder/layer/11', 'bert/encoder/layer/6', 'bert/encoder/layer/5', 'bert/encoder/layer/8', 'bert/encoder/layer/10', 'bert/encoder/layer/7', 'bert/encoder/layer/2', 'bert/encoder/layer/4', 'bert/encoder/layer/3', 'bert/pooler']\n"
     ]
    }
   ],
   "source": [
    "train_loss = CustomDenoisingAutoEncoderLoss(model, decoder_config, model_name)#, tie_encoder_decoder=True)"
   ]
  },
  {
   "cell_type": "code",
   "execution_count": 7,
   "id": "667e2a34-a26c-4e05-85b5-c318a1860a3d",
   "metadata": {},
   "outputs": [],
   "source": [
    "dev_evaluator = LossEvaluator(test_dataloader, loss_model=train_loss, log_dir='logs/', name='dev')\n",
    "best_loss = np.inf\n",
    "if not os.path.exists(\"outputs\"):\n",
    "    os.mkdir(\"outputs\")\n",
    "    \n",
    "\n",
    "\n",
    "def best_score_callback(score, epoch, steps):\n",
    "    global best_loss\n",
    "    \n",
    "    if score<best_loss:\n",
    "        print(f\"New best model - Loss {score}\")\n",
    "        best_loss = score\n",
    "        model.save('outputs/tsdae-model')\n",
    "    return"
   ]
  },
  {
   "cell_type": "code",
   "execution_count": 8,
   "id": "0364fb7f-7410-4db7-a361-9261fde434ab",
   "metadata": {},
   "outputs": [
    {
     "data": {
      "application/vnd.jupyter.widget-view+json": {
       "model_id": "014081683f4b454f86159c2bc47fc03c",
       "version_major": 2,
       "version_minor": 0
      },
      "text/plain": [
       "Epoch:   0%|          | 0/20 [00:00<?, ?it/s]"
      ]
     },
     "metadata": {},
     "output_type": "display_data"
    },
    {
     "data": {
      "application/vnd.jupyter.widget-view+json": {
       "model_id": "3c3c9f823a10454c892dbacce6d4125e",
       "version_major": 2,
       "version_minor": 0
      },
      "text/plain": [
       "Iteration:   0%|          | 0/100 [00:00<?, ?it/s]"
      ]
     },
     "metadata": {},
     "output_type": "display_data"
    },
    {
     "name": "stdout",
     "output_type": "stream",
     "text": [
      "New best model - Loss 5.206889062557581\n"
     ]
    },
    {
     "data": {
      "application/vnd.jupyter.widget-view+json": {
       "model_id": "fbcf56ffdb544fea9306020f601f8782",
       "version_major": 2,
       "version_minor": 0
      },
      "text/plain": [
       "Iteration:   0%|          | 0/100 [00:00<?, ?it/s]"
      ]
     },
     "metadata": {},
     "output_type": "display_data"
    },
    {
     "name": "stdout",
     "output_type": "stream",
     "text": [
      "New best model - Loss 4.1091347055615115\n"
     ]
    },
    {
     "data": {
      "application/vnd.jupyter.widget-view+json": {
       "model_id": "db064afa26a04a9188bb7fdbe07431c9",
       "version_major": 2,
       "version_minor": 0
      },
      "text/plain": [
       "Iteration:   0%|          | 0/100 [00:00<?, ?it/s]"
      ]
     },
     "metadata": {},
     "output_type": "display_data"
    },
    {
     "name": "stdout",
     "output_type": "stream",
     "text": [
      "New best model - Loss 3.55549275200322\n"
     ]
    },
    {
     "data": {
      "application/vnd.jupyter.widget-view+json": {
       "model_id": "72dd531642814d70891149f4655a0860",
       "version_major": 2,
       "version_minor": 0
      },
      "text/plain": [
       "Iteration:   0%|          | 0/100 [00:00<?, ?it/s]"
      ]
     },
     "metadata": {},
     "output_type": "display_data"
    },
    {
     "name": "stdout",
     "output_type": "stream",
     "text": [
      "New best model - Loss 3.103153849547764\n"
     ]
    },
    {
     "data": {
      "application/vnd.jupyter.widget-view+json": {
       "model_id": "4cecd692704f4739b103feb4bedc25fc",
       "version_major": 2,
       "version_minor": 0
      },
      "text/plain": [
       "Iteration:   0%|          | 0/100 [00:00<?, ?it/s]"
      ]
     },
     "metadata": {},
     "output_type": "display_data"
    },
    {
     "name": "stdout",
     "output_type": "stream",
     "text": [
      "New best model - Loss 2.662667359945909\n"
     ]
    },
    {
     "data": {
      "application/vnd.jupyter.widget-view+json": {
       "model_id": "d4a2813a7e3e4ec08856ec8343e16cbe",
       "version_major": 2,
       "version_minor": 0
      },
      "text/plain": [
       "Iteration:   0%|          | 0/100 [00:00<?, ?it/s]"
      ]
     },
     "metadata": {},
     "output_type": "display_data"
    },
    {
     "name": "stdout",
     "output_type": "stream",
     "text": [
      "New best model - Loss 2.2486347252467893\n"
     ]
    },
    {
     "data": {
      "application/vnd.jupyter.widget-view+json": {
       "model_id": "86d512e09b044435b3bfc66a7305b117",
       "version_major": 2,
       "version_minor": 0
      },
      "text/plain": [
       "Iteration:   0%|          | 0/100 [00:00<?, ?it/s]"
      ]
     },
     "metadata": {},
     "output_type": "display_data"
    },
    {
     "name": "stdout",
     "output_type": "stream",
     "text": [
      "New best model - Loss 1.8859785187919185\n"
     ]
    },
    {
     "data": {
      "application/vnd.jupyter.widget-view+json": {
       "model_id": "99c864d39e0f4005946792efcd02d36f",
       "version_major": 2,
       "version_minor": 0
      },
      "text/plain": [
       "Iteration:   0%|          | 0/100 [00:00<?, ?it/s]"
      ]
     },
     "metadata": {},
     "output_type": "display_data"
    },
    {
     "name": "stdout",
     "output_type": "stream",
     "text": [
      "New best model - Loss 1.6367970210201335\n"
     ]
    },
    {
     "data": {
      "application/vnd.jupyter.widget-view+json": {
       "model_id": "7c544a7737fe416ba6d137535a50e198",
       "version_major": 2,
       "version_minor": 0
      },
      "text/plain": [
       "Iteration:   0%|          | 0/100 [00:00<?, ?it/s]"
      ]
     },
     "metadata": {},
     "output_type": "display_data"
    },
    {
     "name": "stdout",
     "output_type": "stream",
     "text": [
      "New best model - Loss 1.4855941624011633\n"
     ]
    },
    {
     "data": {
      "application/vnd.jupyter.widget-view+json": {
       "model_id": "a24fba140b2242248fd08ef8b2b4a3ea",
       "version_major": 2,
       "version_minor": 0
      },
      "text/plain": [
       "Iteration:   0%|          | 0/100 [00:00<?, ?it/s]"
      ]
     },
     "metadata": {},
     "output_type": "display_data"
    },
    {
     "name": "stdout",
     "output_type": "stream",
     "text": [
      "New best model - Loss 1.3977635536553725\n"
     ]
    },
    {
     "data": {
      "application/vnd.jupyter.widget-view+json": {
       "model_id": "f6084797a7e7474db43d0c66f20ff633",
       "version_major": 2,
       "version_minor": 0
      },
      "text/plain": [
       "Iteration:   0%|          | 0/100 [00:00<?, ?it/s]"
      ]
     },
     "metadata": {},
     "output_type": "display_data"
    },
    {
     "name": "stdout",
     "output_type": "stream",
     "text": [
      "New best model - Loss 1.342017020819322\n"
     ]
    },
    {
     "data": {
      "application/vnd.jupyter.widget-view+json": {
       "model_id": "a41570ee4cda42dcbe4ab0d857d314b9",
       "version_major": 2,
       "version_minor": 0
      },
      "text/plain": [
       "Iteration:   0%|          | 0/100 [00:00<?, ?it/s]"
      ]
     },
     "metadata": {},
     "output_type": "display_data"
    },
    {
     "name": "stdout",
     "output_type": "stream",
     "text": [
      "New best model - Loss 1.3036663442287806\n"
     ]
    },
    {
     "data": {
      "application/vnd.jupyter.widget-view+json": {
       "model_id": "16269d83921f443cbedc4338878f3aba",
       "version_major": 2,
       "version_minor": 0
      },
      "text/plain": [
       "Iteration:   0%|          | 0/100 [00:00<?, ?it/s]"
      ]
     },
     "metadata": {},
     "output_type": "display_data"
    },
    {
     "name": "stdout",
     "output_type": "stream",
     "text": [
      "New best model - Loss 1.2682253572176088\n"
     ]
    },
    {
     "data": {
      "application/vnd.jupyter.widget-view+json": {
       "model_id": "315c715629a04f8fabf3b8feacc0acc4",
       "version_major": 2,
       "version_minor": 0
      },
      "text/plain": [
       "Iteration:   0%|          | 0/100 [00:00<?, ?it/s]"
      ]
     },
     "metadata": {},
     "output_type": "display_data"
    },
    {
     "name": "stdout",
     "output_type": "stream",
     "text": [
      "New best model - Loss 1.2422230333652136\n"
     ]
    },
    {
     "data": {
      "application/vnd.jupyter.widget-view+json": {
       "model_id": "084ce0bb19854a33a7afa81e50ba0bec",
       "version_major": 2,
       "version_minor": 0
      },
      "text/plain": [
       "Iteration:   0%|          | 0/100 [00:00<?, ?it/s]"
      ]
     },
     "metadata": {},
     "output_type": "display_data"
    },
    {
     "name": "stdout",
     "output_type": "stream",
     "text": [
      "New best model - Loss 1.216479404917303\n"
     ]
    },
    {
     "data": {
      "application/vnd.jupyter.widget-view+json": {
       "model_id": "0ccbd35af27242c5a73f671fce307970",
       "version_major": 2,
       "version_minor": 0
      },
      "text/plain": [
       "Iteration:   0%|          | 0/100 [00:00<?, ?it/s]"
      ]
     },
     "metadata": {},
     "output_type": "display_data"
    },
    {
     "name": "stdout",
     "output_type": "stream",
     "text": [
      "New best model - Loss 1.195543849243308\n"
     ]
    },
    {
     "data": {
      "application/vnd.jupyter.widget-view+json": {
       "model_id": "38f9969dc58e42a8ac8de569a314164e",
       "version_major": 2,
       "version_minor": 0
      },
      "text/plain": [
       "Iteration:   0%|          | 0/100 [00:00<?, ?it/s]"
      ]
     },
     "metadata": {},
     "output_type": "display_data"
    },
    {
     "name": "stdout",
     "output_type": "stream",
     "text": [
      "New best model - Loss 1.179368698372031\n"
     ]
    },
    {
     "data": {
      "application/vnd.jupyter.widget-view+json": {
       "model_id": "4f723c998ed94770846c843603d2b921",
       "version_major": 2,
       "version_minor": 0
      },
      "text/plain": [
       "Iteration:   0%|          | 0/100 [00:00<?, ?it/s]"
      ]
     },
     "metadata": {},
     "output_type": "display_data"
    },
    {
     "name": "stdout",
     "output_type": "stream",
     "text": [
      "New best model - Loss 1.1611525337651092\n"
     ]
    },
    {
     "data": {
      "application/vnd.jupyter.widget-view+json": {
       "model_id": "9222ecce3d344313b81d459b08c5fd7d",
       "version_major": 2,
       "version_minor": 0
      },
      "text/plain": [
       "Iteration:   0%|          | 0/100 [00:00<?, ?it/s]"
      ]
     },
     "metadata": {},
     "output_type": "display_data"
    },
    {
     "name": "stdout",
     "output_type": "stream",
     "text": [
      "New best model - Loss 1.147315117548097\n"
     ]
    },
    {
     "data": {
      "application/vnd.jupyter.widget-view+json": {
       "model_id": "8c59f57675b745ff813c1a9076ddebc3",
       "version_major": 2,
       "version_minor": 0
      },
      "text/plain": [
       "Iteration:   0%|          | 0/100 [00:00<?, ?it/s]"
      ]
     },
     "metadata": {},
     "output_type": "display_data"
    },
    {
     "name": "stdout",
     "output_type": "stream",
     "text": [
      "New best model - Loss 1.1310338973999023\n"
     ]
    }
   ],
   "source": [
    "model.fit(\n",
    "    train_objectives=[(train_dataloader, train_loss)],\n",
    "    epochs=20,\n",
    "    steps_per_epoch=100,\n",
    "    evaluator=dev_evaluator,\n",
    "    weight_decay=1e-5,\n",
    "    scheduler='constantlr',\n",
    "    callback=best_score_callback,\n",
    "    optimizer_params={'lr': 3e-6},\n",
    "    show_progress_bar=True\n",
    ")"
   ]
  },
  {
   "cell_type": "code",
   "execution_count": 9,
   "id": "f1591709-e678-4fa9-833a-c770e735b003",
   "metadata": {},
   "outputs": [],
   "source": [
    "# Load model with best validation loss\n",
    "best_model = SentenceTransformer('outputs/tsdae-model')"
   ]
  },
  {
   "cell_type": "markdown",
   "id": "82f12564-2a2f-4558-b724-af0a857b56f8",
   "metadata": {},
   "source": [
    "# Embed COGVIC germline variants"
   ]
  },
  {
   "cell_type": "code",
   "execution_count": 10,
   "id": "72b5a99a-4949-4865-bbbc-5b73d25771a4",
   "metadata": {},
   "outputs": [
    {
     "data": {
      "text/html": [
       "<div>\n",
       "<style scoped>\n",
       "    .dataframe tbody tr th:only-of-type {\n",
       "        vertical-align: middle;\n",
       "    }\n",
       "\n",
       "    .dataframe tbody tr th {\n",
       "        vertical-align: top;\n",
       "    }\n",
       "\n",
       "    .dataframe thead th {\n",
       "        text-align: right;\n",
       "    }\n",
       "</style>\n",
       "<table border=\"1\" class=\"dataframe\">\n",
       "  <thead>\n",
       "    <tr style=\"text-align: right;\">\n",
       "      <th></th>\n",
       "      <th>dbSNP</th>\n",
       "      <th>Gene</th>\n",
       "      <th>disease</th>\n",
       "      <th>z0</th>\n",
       "      <th>z1</th>\n",
       "      <th>z2</th>\n",
       "      <th>z3</th>\n",
       "      <th>z4</th>\n",
       "      <th>z5</th>\n",
       "      <th>z6</th>\n",
       "      <th>...</th>\n",
       "      <th>z758</th>\n",
       "      <th>z759</th>\n",
       "      <th>z760</th>\n",
       "      <th>z761</th>\n",
       "      <th>z762</th>\n",
       "      <th>z763</th>\n",
       "      <th>z764</th>\n",
       "      <th>z765</th>\n",
       "      <th>z766</th>\n",
       "      <th>z767</th>\n",
       "    </tr>\n",
       "  </thead>\n",
       "  <tbody>\n",
       "    <tr>\n",
       "      <th>0</th>\n",
       "      <td>rs373407950(chr9-21974705-GtoT)</td>\n",
       "      <td>CDKN2A</td>\n",
       "      <td>Hereditary_cancer-predisposing_syndrome\\nHered...</td>\n",
       "      <td>0.137856</td>\n",
       "      <td>1.304762</td>\n",
       "      <td>-0.350797</td>\n",
       "      <td>-0.170449</td>\n",
       "      <td>-0.233094</td>\n",
       "      <td>-1.688197</td>\n",
       "      <td>0.402598</td>\n",
       "      <td>...</td>\n",
       "      <td>-1.116248</td>\n",
       "      <td>-3.047753</td>\n",
       "      <td>1.132886</td>\n",
       "      <td>-0.442223</td>\n",
       "      <td>0.166168</td>\n",
       "      <td>0.609442</td>\n",
       "      <td>-0.286504</td>\n",
       "      <td>-0.398218</td>\n",
       "      <td>1.008041</td>\n",
       "      <td>-0.240532</td>\n",
       "    </tr>\n",
       "    <tr>\n",
       "      <th>1</th>\n",
       "      <td>rs1374339026(chr9-135772897-AtoG)</td>\n",
       "      <td>TSC1</td>\n",
       "      <td>.</td>\n",
       "      <td>0.178289</td>\n",
       "      <td>-0.620080</td>\n",
       "      <td>0.521250</td>\n",
       "      <td>-0.099729</td>\n",
       "      <td>0.234864</td>\n",
       "      <td>-2.155751</td>\n",
       "      <td>0.543393</td>\n",
       "      <td>...</td>\n",
       "      <td>-0.016643</td>\n",
       "      <td>-2.747691</td>\n",
       "      <td>0.350921</td>\n",
       "      <td>0.378368</td>\n",
       "      <td>0.336131</td>\n",
       "      <td>-0.736510</td>\n",
       "      <td>-0.642060</td>\n",
       "      <td>-0.070476</td>\n",
       "      <td>-1.340156</td>\n",
       "      <td>0.696337</td>\n",
       "    </tr>\n",
       "    <tr>\n",
       "      <th>2</th>\n",
       "      <td>rs779313090(chr5-86564637-GtoC)</td>\n",
       "      <td>RASA1</td>\n",
       "      <td>.</td>\n",
       "      <td>-0.366823</td>\n",
       "      <td>1.352475</td>\n",
       "      <td>-0.312023</td>\n",
       "      <td>0.228880</td>\n",
       "      <td>0.929405</td>\n",
       "      <td>-1.038352</td>\n",
       "      <td>1.068501</td>\n",
       "      <td>...</td>\n",
       "      <td>-1.425530</td>\n",
       "      <td>-1.223110</td>\n",
       "      <td>0.813862</td>\n",
       "      <td>0.050696</td>\n",
       "      <td>0.290999</td>\n",
       "      <td>0.972817</td>\n",
       "      <td>-0.489651</td>\n",
       "      <td>0.254168</td>\n",
       "      <td>1.170988</td>\n",
       "      <td>-0.609160</td>\n",
       "    </tr>\n",
       "    <tr>\n",
       "      <th>3</th>\n",
       "      <td>rs753500118(chr5-149459663-CtoA)</td>\n",
       "      <td>CSF1R</td>\n",
       "      <td>.</td>\n",
       "      <td>-0.947213</td>\n",
       "      <td>1.150305</td>\n",
       "      <td>0.414589</td>\n",
       "      <td>-0.601561</td>\n",
       "      <td>0.701059</td>\n",
       "      <td>-2.092129</td>\n",
       "      <td>-0.881780</td>\n",
       "      <td>...</td>\n",
       "      <td>-0.143314</td>\n",
       "      <td>-0.362253</td>\n",
       "      <td>0.416817</td>\n",
       "      <td>-1.600521</td>\n",
       "      <td>0.875007</td>\n",
       "      <td>0.831460</td>\n",
       "      <td>0.746343</td>\n",
       "      <td>-1.609833</td>\n",
       "      <td>-0.337709</td>\n",
       "      <td>-0.626772</td>\n",
       "    </tr>\n",
       "    <tr>\n",
       "      <th>4</th>\n",
       "      <td>rs1310116062(chr3-49398430-TtoC)</td>\n",
       "      <td>RHOA</td>\n",
       "      <td>.</td>\n",
       "      <td>0.205896</td>\n",
       "      <td>-0.641042</td>\n",
       "      <td>1.614751</td>\n",
       "      <td>-0.100694</td>\n",
       "      <td>-0.709065</td>\n",
       "      <td>-2.573556</td>\n",
       "      <td>-0.851396</td>\n",
       "      <td>...</td>\n",
       "      <td>-0.375424</td>\n",
       "      <td>-1.795619</td>\n",
       "      <td>0.118982</td>\n",
       "      <td>-0.371557</td>\n",
       "      <td>0.621523</td>\n",
       "      <td>-0.252806</td>\n",
       "      <td>0.876569</td>\n",
       "      <td>-0.685753</td>\n",
       "      <td>-0.186040</td>\n",
       "      <td>-0.120817</td>\n",
       "    </tr>\n",
       "    <tr>\n",
       "      <th>...</th>\n",
       "      <td>...</td>\n",
       "      <td>...</td>\n",
       "      <td>...</td>\n",
       "      <td>...</td>\n",
       "      <td>...</td>\n",
       "      <td>...</td>\n",
       "      <td>...</td>\n",
       "      <td>...</td>\n",
       "      <td>...</td>\n",
       "      <td>...</td>\n",
       "      <td>...</td>\n",
       "      <td>...</td>\n",
       "      <td>...</td>\n",
       "      <td>...</td>\n",
       "      <td>...</td>\n",
       "      <td>...</td>\n",
       "      <td>...</td>\n",
       "      <td>...</td>\n",
       "      <td>...</td>\n",
       "      <td>...</td>\n",
       "      <td>...</td>\n",
       "    </tr>\n",
       "    <tr>\n",
       "      <th>418</th>\n",
       "      <td>rs121917784(chr9-98011537-GtoA)</td>\n",
       "      <td>FANCC</td>\n",
       "      <td>Fanconi_anemia\\nFanconi_anemia,_complementatio...</td>\n",
       "      <td>-0.038645</td>\n",
       "      <td>-0.061238</td>\n",
       "      <td>0.133292</td>\n",
       "      <td>-0.397203</td>\n",
       "      <td>-0.097362</td>\n",
       "      <td>-2.413872</td>\n",
       "      <td>0.204737</td>\n",
       "      <td>...</td>\n",
       "      <td>-0.550311</td>\n",
       "      <td>-2.999417</td>\n",
       "      <td>0.172530</td>\n",
       "      <td>-1.254124</td>\n",
       "      <td>0.542708</td>\n",
       "      <td>-0.141917</td>\n",
       "      <td>1.169940</td>\n",
       "      <td>-1.396796</td>\n",
       "      <td>1.762660</td>\n",
       "      <td>0.935347</td>\n",
       "    </tr>\n",
       "    <tr>\n",
       "      <th>419</th>\n",
       "      <td>rs780378700(chr9-98244421-CtoT)</td>\n",
       "      <td>PTCH1</td>\n",
       "      <td>.</td>\n",
       "      <td>-0.084396</td>\n",
       "      <td>1.025185</td>\n",
       "      <td>-0.392708</td>\n",
       "      <td>-0.742551</td>\n",
       "      <td>-0.249570</td>\n",
       "      <td>-2.339588</td>\n",
       "      <td>0.310190</td>\n",
       "      <td>...</td>\n",
       "      <td>0.255359</td>\n",
       "      <td>-2.121872</td>\n",
       "      <td>0.211452</td>\n",
       "      <td>-0.689443</td>\n",
       "      <td>-0.473297</td>\n",
       "      <td>0.872161</td>\n",
       "      <td>0.697814</td>\n",
       "      <td>-1.072305</td>\n",
       "      <td>2.288765</td>\n",
       "      <td>-0.021590</td>\n",
       "    </tr>\n",
       "    <tr>\n",
       "      <th>420</th>\n",
       "      <td>rs755103500(chr9-98279102-TtoC)</td>\n",
       "      <td>PTCH1</td>\n",
       "      <td>.</td>\n",
       "      <td>-0.663583</td>\n",
       "      <td>0.083364</td>\n",
       "      <td>0.249444</td>\n",
       "      <td>-0.407183</td>\n",
       "      <td>0.650535</td>\n",
       "      <td>-1.567198</td>\n",
       "      <td>-0.451419</td>\n",
       "      <td>...</td>\n",
       "      <td>-0.794830</td>\n",
       "      <td>-0.873582</td>\n",
       "      <td>0.991831</td>\n",
       "      <td>-0.876724</td>\n",
       "      <td>1.135393</td>\n",
       "      <td>-0.203184</td>\n",
       "      <td>0.415362</td>\n",
       "      <td>-0.134361</td>\n",
       "      <td>-0.400850</td>\n",
       "      <td>-0.914821</td>\n",
       "    </tr>\n",
       "    <tr>\n",
       "      <th>421</th>\n",
       "      <td>rs146700772(chrX-153997508-AtoC)</td>\n",
       "      <td>DKC1</td>\n",
       "      <td>Dyskeratosis_congenita\\nDyskeratosis_congenita...</td>\n",
       "      <td>-0.077061</td>\n",
       "      <td>0.619656</td>\n",
       "      <td>-0.365343</td>\n",
       "      <td>-0.254656</td>\n",
       "      <td>-0.202847</td>\n",
       "      <td>-2.275767</td>\n",
       "      <td>0.364359</td>\n",
       "      <td>...</td>\n",
       "      <td>0.049778</td>\n",
       "      <td>-2.032034</td>\n",
       "      <td>0.376245</td>\n",
       "      <td>-0.934358</td>\n",
       "      <td>0.209285</td>\n",
       "      <td>0.363973</td>\n",
       "      <td>0.661095</td>\n",
       "      <td>-1.590620</td>\n",
       "      <td>2.043539</td>\n",
       "      <td>0.007281</td>\n",
       "    </tr>\n",
       "    <tr>\n",
       "      <th>422</th>\n",
       "      <td>rs137852593(chrX-66937326-GtoT)</td>\n",
       "      <td>AR</td>\n",
       "      <td>Prostate_cancer_susceptibility</td>\n",
       "      <td>0.209522</td>\n",
       "      <td>0.181058</td>\n",
       "      <td>0.186706</td>\n",
       "      <td>-0.265561</td>\n",
       "      <td>0.918650</td>\n",
       "      <td>-1.830914</td>\n",
       "      <td>1.014955</td>\n",
       "      <td>...</td>\n",
       "      <td>-0.903738</td>\n",
       "      <td>-1.716382</td>\n",
       "      <td>0.782096</td>\n",
       "      <td>-0.398384</td>\n",
       "      <td>0.529544</td>\n",
       "      <td>-0.333290</td>\n",
       "      <td>0.533163</td>\n",
       "      <td>-0.081044</td>\n",
       "      <td>0.761129</td>\n",
       "      <td>0.813884</td>\n",
       "    </tr>\n",
       "  </tbody>\n",
       "</table>\n",
       "<p>423 rows × 771 columns</p>\n",
       "</div>"
      ],
      "text/plain": [
       "                                 dbSNP    Gene  \\\n",
       "0      rs373407950(chr9-21974705-GtoT)  CDKN2A   \n",
       "1    rs1374339026(chr9-135772897-AtoG)    TSC1   \n",
       "2      rs779313090(chr5-86564637-GtoC)   RASA1   \n",
       "3     rs753500118(chr5-149459663-CtoA)   CSF1R   \n",
       "4     rs1310116062(chr3-49398430-TtoC)    RHOA   \n",
       "..                                 ...     ...   \n",
       "418    rs121917784(chr9-98011537-GtoA)   FANCC   \n",
       "419    rs780378700(chr9-98244421-CtoT)   PTCH1   \n",
       "420    rs755103500(chr9-98279102-TtoC)   PTCH1   \n",
       "421   rs146700772(chrX-153997508-AtoC)    DKC1   \n",
       "422    rs137852593(chrX-66937326-GtoT)      AR   \n",
       "\n",
       "                                               disease        z0        z1  \\\n",
       "0    Hereditary_cancer-predisposing_syndrome\\nHered...  0.137856  1.304762   \n",
       "1                                                    .  0.178289 -0.620080   \n",
       "2                                                    . -0.366823  1.352475   \n",
       "3                                                    . -0.947213  1.150305   \n",
       "4                                                    .  0.205896 -0.641042   \n",
       "..                                                 ...       ...       ...   \n",
       "418  Fanconi_anemia\\nFanconi_anemia,_complementatio... -0.038645 -0.061238   \n",
       "419                                                  . -0.084396  1.025185   \n",
       "420                                                  . -0.663583  0.083364   \n",
       "421  Dyskeratosis_congenita\\nDyskeratosis_congenita... -0.077061  0.619656   \n",
       "422                     Prostate_cancer_susceptibility  0.209522  0.181058   \n",
       "\n",
       "           z2        z3        z4        z5        z6  ...      z758  \\\n",
       "0   -0.350797 -0.170449 -0.233094 -1.688197  0.402598  ... -1.116248   \n",
       "1    0.521250 -0.099729  0.234864 -2.155751  0.543393  ... -0.016643   \n",
       "2   -0.312023  0.228880  0.929405 -1.038352  1.068501  ... -1.425530   \n",
       "3    0.414589 -0.601561  0.701059 -2.092129 -0.881780  ... -0.143314   \n",
       "4    1.614751 -0.100694 -0.709065 -2.573556 -0.851396  ... -0.375424   \n",
       "..        ...       ...       ...       ...       ...  ...       ...   \n",
       "418  0.133292 -0.397203 -0.097362 -2.413872  0.204737  ... -0.550311   \n",
       "419 -0.392708 -0.742551 -0.249570 -2.339588  0.310190  ...  0.255359   \n",
       "420  0.249444 -0.407183  0.650535 -1.567198 -0.451419  ... -0.794830   \n",
       "421 -0.365343 -0.254656 -0.202847 -2.275767  0.364359  ...  0.049778   \n",
       "422  0.186706 -0.265561  0.918650 -1.830914  1.014955  ... -0.903738   \n",
       "\n",
       "         z759      z760      z761      z762      z763      z764      z765  \\\n",
       "0   -3.047753  1.132886 -0.442223  0.166168  0.609442 -0.286504 -0.398218   \n",
       "1   -2.747691  0.350921  0.378368  0.336131 -0.736510 -0.642060 -0.070476   \n",
       "2   -1.223110  0.813862  0.050696  0.290999  0.972817 -0.489651  0.254168   \n",
       "3   -0.362253  0.416817 -1.600521  0.875007  0.831460  0.746343 -1.609833   \n",
       "4   -1.795619  0.118982 -0.371557  0.621523 -0.252806  0.876569 -0.685753   \n",
       "..        ...       ...       ...       ...       ...       ...       ...   \n",
       "418 -2.999417  0.172530 -1.254124  0.542708 -0.141917  1.169940 -1.396796   \n",
       "419 -2.121872  0.211452 -0.689443 -0.473297  0.872161  0.697814 -1.072305   \n",
       "420 -0.873582  0.991831 -0.876724  1.135393 -0.203184  0.415362 -0.134361   \n",
       "421 -2.032034  0.376245 -0.934358  0.209285  0.363973  0.661095 -1.590620   \n",
       "422 -1.716382  0.782096 -0.398384  0.529544 -0.333290  0.533163 -0.081044   \n",
       "\n",
       "         z766      z767  \n",
       "0    1.008041 -0.240532  \n",
       "1   -1.340156  0.696337  \n",
       "2    1.170988 -0.609160  \n",
       "3   -0.337709 -0.626772  \n",
       "4   -0.186040 -0.120817  \n",
       "..        ...       ...  \n",
       "418  1.762660  0.935347  \n",
       "419  2.288765 -0.021590  \n",
       "420 -0.400850 -0.914821  \n",
       "421  2.043539  0.007281  \n",
       "422  0.761129  0.813884  \n",
       "\n",
       "[423 rows x 771 columns]"
      ]
     },
     "execution_count": 10,
     "metadata": {},
     "output_type": "execute_result"
    }
   ],
   "source": [
    "embedding_results = best_model(tokenizer(test_dataset.mutated_sequences, return_tensors=\"pt\"))\n",
    "variants_embeddings = embedding_results[\"sentence_embedding\"].detach().numpy()\n",
    "germline_embeddings = test_data[[\"dbSNP\", \"Gene\", \"disease\"]].copy()\n",
    "germline_embeddings.loc[:, [f\"z{i}\" for i in range(variants_embeddings.shape[-1])]] = variants_embeddings\n",
    "germline_embeddings"
   ]
  },
  {
   "cell_type": "code",
   "execution_count": 11,
   "id": "8cfd6cc4-3a31-4c51-986b-1018874863f7",
   "metadata": {},
   "outputs": [],
   "source": [
    "germline_embeddings.to_csv(\"COGVIC_germline_variants_embeddings.csv\", index=False)"
   ]
  },
  {
   "cell_type": "markdown",
   "id": "e914fb2d-5b87-41bb-9d9b-7d329efd6438",
   "metadata": {},
   "source": [
    "# Plot a representation of the cogvic embeddings"
   ]
  },
  {
   "cell_type": "code",
   "execution_count": 12,
   "id": "315f8230-daea-47d4-8a97-7256cc70918b",
   "metadata": {},
   "outputs": [
    {
     "data": {
      "image/png": "[encoded data removed]",
      "text/plain": [
       "<Figure size 800x800 with 1 Axes>"
      ]
     },
     "metadata": {},
     "output_type": "display_data"
    }
   ],
   "source": [
    "reducer = umap.UMAP(n_components=2, random_state=42)\n",
    "umap_embeddings = reducer.fit_transform(variants_embeddings)\n",
    "\n",
    "fig, ax = plt.subplots(figsize=(8,8))\n",
    "\n",
    "color = [\"orange\" if \"Hereditary_cancer-predisposing_syndrome\" in x else \"blue\" for x in germline_embeddings[\"disease\"].values]\n",
    "ax.scatter(umap_embeddings[:,0], umap_embeddings[:,1], c=color)\n",
    "ax.set_xlabel(\"U1\")\n",
    "ax.set_ylabel(\"U2\")\n",
    "\n",
    "fig.savefig(\"images/COGVIC_UMAP_embeddings.png\", facecolor=\"white\")\n",
    "plt.show()"
   ]
  },
  {
   "cell_type": "code",
   "execution_count": null,
   "id": "2be07672-47ad-454d-941b-3d298cbbe8eb",
   "metadata": {},
   "outputs": [],
   "source": []
  }
 ],
 "metadata": {
  "kernelspec": {
   "display_name": "Python 3 (ipykernel)",
   "language": "python",
   "name": "python3"
  },
  "language_info": {
   "codemirror_mode": {
    "name": "ipython",
    "version": 3
   },
   "file_extension": ".py",
   "mimetype": "text/x-python",
   "name": "python",
   "nbconvert_exporter": "python",
   "pygments_lexer": "ipython3",
   "version": "3.10.9"
  }
 },
 "nbformat": 4,
 "nbformat_minor": 5
}
